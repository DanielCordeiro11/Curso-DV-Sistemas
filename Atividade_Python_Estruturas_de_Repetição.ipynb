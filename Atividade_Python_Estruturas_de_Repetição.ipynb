{
  "cells": [
    {
      "cell_type": "markdown",
      "metadata": {
        "id": "view-in-github",
        "colab_type": "text"
      },
      "source": [
        "<a href=\"https://colab.research.google.com/github/DanielCordeiro11/Reposit-1/blob/main/Atividade_Python_Estruturas_de_Repeti%C3%A7%C3%A3o.ipynb\" target=\"_parent\"><img src=\"https://colab.research.google.com/assets/colab-badge.svg\" alt=\"Open In Colab\"/></a>"
      ]
    },
    {
      "cell_type": "markdown",
      "metadata": {
        "id": "G2T5IvvCKlCA"
      },
      "source": [
        "1 - Faça um programa que peça uma nota, entre zero e dez. Mostre uma mensagem caso o valor seja inválido e continue pedindo até que o usuário informe um valor válido."
      ]
    },
    {
      "cell_type": "code",
      "execution_count": null,
      "metadata": {
        "colab": {
          "base_uri": "https://localhost:8080/"
        },
        "id": "7XohSqR1CvYm",
        "outputId": "1c092421-6f85-439e-c269-7b03ee0585d9"
      },
      "outputs": [
        {
          "name": "stdout",
          "output_type": "stream",
          "text": [
            "Digite uma nota entre zero e dez: 56\n",
            "Valor inválido. Por favor, digite uma nota entre zero e dez.\n",
            "Digite uma nota entre zero e dez: 3\n",
            "Nota válida: 3.0\n"
          ]
        }
      ],
      "source": [
        "while True:\n",
        "    nota = float(input('Digite uma nota entre zero e dez: '))\n",
        "\n",
        "    if 0 <= nota <= 10:\n",
        "        print(f'Nota válida: {nota}')\n",
        "        break\n",
        "    else:\n",
        "        print('Valor inválido. Por favor, digite uma nota entre zero e dez.')"
      ]
    },
    {
      "cell_type": "markdown",
      "metadata": {
        "id": "gWAZXiVsK_vV"
      },
      "source": [
        "2 - Faça um programa que leia um nome de usuário e a sua senha e não aceite a senha igual ao nome do usuário, mostrando uma mensagem de erro e voltando a pedir as informações."
      ]
    },
    {
      "cell_type": "code",
      "execution_count": null,
      "metadata": {
        "colab": {
          "base_uri": "https://localhost:8080/"
        },
        "id": "7W2nTKyzLD_o",
        "outputId": "6fb14cfd-d356-4fcc-a764-6049d2ab02e1"
      },
      "outputs": [
        {
          "name": "stdout",
          "output_type": "stream",
          "text": [
            "Digite o nome de usuário: Lucas\n",
            "Digite a senha: 123\n",
            "Cadastro realizado com sucesso!\n"
          ]
        }
      ],
      "source": [
        "while True:\n",
        "    usuario = input('Digite o nome de usuário: ')\n",
        "    senha = input('Digite a senha: ')\n",
        "\n",
        "    if usuario != senha:\n",
        "        print('Cadastro realizado com sucesso!')\n",
        "        break\n",
        "    else:\n",
        "        print('Erro: a senha não pode ser igual ao nome de usuário. Tente novamente.')"
      ]
    },
    {
      "cell_type": "markdown",
      "metadata": {
        "id": "Poso_SMkLa5-"
      },
      "source": [
        "3 - Faça um programa que imprima na tela os números de 1 a 20, um abaixo do outro. Depois modifique o programa para que ele mostre os números um ao lado do outro."
      ]
    },
    {
      "cell_type": "code",
      "execution_count": null,
      "metadata": {
        "colab": {
          "base_uri": "https://localhost:8080/"
        },
        "id": "li69uZfHLfHE",
        "outputId": "2ae355d4-9237-4b0b-e11f-75e1c96fcecf"
      },
      "outputs": [
        {
          "name": "stdout",
          "output_type": "stream",
          "text": [
            "Números de 1 a 20 abaixo do outro:\n",
            "1\n",
            "2\n",
            "3\n",
            "4\n",
            "5\n",
            "6\n",
            "7\n",
            "8\n",
            "9\n",
            "10\n",
            "11\n",
            "12\n",
            "13\n",
            "14\n",
            "15\n",
            "16\n",
            "17\n",
            "18\n",
            "19\n",
            "20\n",
            "Números de 1 a 20 ao lado do outro:\n",
            "1 2 3 4 5 6 7 8 9 10 11 12 13 14 15 16 17 18 19 20 "
          ]
        }
      ],
      "source": [
        "print(\"Números de 1 a 20 abaixo do outro:\")\n",
        "for i in range(1, 21):\n",
        "    print(i)\n",
        "print(\"Números de 1 a 20 ao lado do outro:\")\n",
        "for i in range(1, 21):\n",
        "    print(i, end=\" \")"
      ]
    },
    {
      "cell_type": "markdown",
      "metadata": {
        "id": "1TV_H3HpMUFo"
      },
      "source": [
        "4 - Faça um programa que leia 5 números e informe o maior número."
      ]
    },
    {
      "cell_type": "code",
      "execution_count": null,
      "metadata": {
        "id": "XtzFuRWhMYDk"
      },
      "outputs": [],
      "source": [
        "numeros = [float(input(f\"Digite o {i+1}º número: \")) for i in range(5)]\n",
        "maior_numero = max(numeros)\n",
        "print(\"O maior número é:\", maior_numero)"
      ]
    },
    {
      "cell_type": "markdown",
      "metadata": {
        "id": "CA-aWpejNtBY"
      },
      "source": [
        "5 - Faça um programa que leia 5 números e informe a soma e a média dos números."
      ]
    },
    {
      "cell_type": "code",
      "execution_count": null,
      "metadata": {
        "id": "5K5EO3YBOB4P"
      },
      "outputs": [],
      "source": [
        "for i in range(5):\n",
        "    num = float(input(f'Digite o {i + 1}º número: '))\n",
        "    soma += num\n",
        "\n",
        "media = soma / 5\n",
        "\n",
        "print(f'A soma dos números é: {soma}')\n",
        "print(f'A média dos números é: {media}')"
      ]
    },
    {
      "cell_type": "markdown",
      "metadata": {
        "id": "2VPZz_76OhNw"
      },
      "source": [
        "6 - Faça um programa que imprima na tela apenas os números ímpares entre 1 e 50."
      ]
    },
    {
      "cell_type": "code",
      "execution_count": null,
      "metadata": {
        "colab": {
          "base_uri": "https://localhost:8080/"
        },
        "id": "fyJeDLK6OqEY",
        "outputId": "a059843d-1485-40d1-a80b-dfeaa8beb916"
      },
      "outputs": [
        {
          "name": "stdout",
          "output_type": "stream",
          "text": [
            "1\n",
            "3\n",
            "5\n",
            "7\n",
            "9\n",
            "11\n",
            "13\n",
            "15\n",
            "17\n",
            "19\n",
            "21\n",
            "23\n",
            "25\n",
            "27\n",
            "29\n",
            "31\n",
            "33\n",
            "35\n",
            "37\n",
            "39\n",
            "41\n",
            "43\n",
            "45\n",
            "47\n",
            "49\n"
          ]
        }
      ],
      "source": [
        "for num in range(1, 51):\n",
        "    if num % 2 != 0:\n",
        "        print(num)"
      ]
    },
    {
      "cell_type": "markdown",
      "metadata": {
        "id": "4CD4S56IPbKo"
      },
      "source": [
        "7 - Faça um programa que receba dois números inteiros e gere os números inteiros que estão no intervalo compreendido por eles.\n",
        "Altere o programa anterior para mostrar no final a soma dos números."
      ]
    },
    {
      "cell_type": "code",
      "execution_count": null,
      "metadata": {
        "colab": {
          "base_uri": "https://localhost:8080/"
        },
        "id": "oRvkKjNSPfn4",
        "outputId": "cf9ab1dd-26c8-4a01-9ee2-5583f6562431"
      },
      "outputs": [
        {
          "name": "stdout",
          "output_type": "stream",
          "text": [
            "Digite o primeiro número inteiro: 3\n",
            "Digite o segundo número inteiro: 23\n",
            "3\n",
            "4\n",
            "5\n",
            "6\n",
            "7\n",
            "8\n",
            "9\n",
            "10\n",
            "11\n",
            "12\n",
            "13\n",
            "14\n",
            "15\n",
            "16\n",
            "17\n",
            "18\n",
            "19\n",
            "20\n",
            "21\n",
            "22\n",
            "23\n",
            "A soma dos números é: 273\n"
          ]
        }
      ],
      "source": [
        "num1 = int(input('Digite o primeiro número inteiro: '))\n",
        "num2 = int(input('Digite o segundo número inteiro: '))\n",
        "soma = 0\n",
        "\n",
        "for num in range(num1, num2 + 1):\n",
        "    print(num)\n",
        "    soma += num\n",
        "\n",
        "print(f'A soma dos números é: {soma}')"
      ]
    },
    {
      "cell_type": "markdown",
      "metadata": {
        "id": "ntrdHCr5QySf"
      },
      "source": [
        "8 - Desenvolva um gerador de tabuada, capaz de gerar a tabuada de qualquer número inteiro entre 1 a 10. O usuário deve informar de qual numero ele deseja ver a tabuada. A saída deve ser conforme o exemplo abaixo:\n",
        "\n",
        "Tabuada de 5:\n",
        "5 X 1 = 5\n",
        "5 X 2 = 10\n",
        "...\n",
        "5 X 10 = 50"
      ]
    },
    {
      "cell_type": "code",
      "execution_count": null,
      "metadata": {
        "colab": {
          "background_save": true,
          "base_uri": "https://localhost:8080/"
        },
        "id": "v59QjzTIQ1c7",
        "outputId": "2553694a-4bfb-456d-9066-9e172eaaa872"
      },
      "outputs": [
        {
          "name": "stdout",
          "output_type": "stream",
          "text": [
            "Número inválido. Por favor, digite um número entre 1 e 10.\n"
          ]
        }
      ],
      "source": [
        "while True:\n",
        "    numero = int(input('Digite um número inteiro entre 1 e 10: '))\n",
        "\n",
        "    if 1 <= numero <= 10:\n",
        "        print(f'Tabuada de {numero}:')\n",
        "\n",
        "        for i in range(1, 11):\n",
        "            resultado = numero * i\n",
        "            print(f'{numero} X {i} = {resultado}')\n",
        "\n",
        "        break\n",
        "    else:\n",
        "        print('Número inválido. Por favor, digite um número entre 1 e 10.')\n"
      ]
    },
    {
      "cell_type": "markdown",
      "metadata": {
        "id": "-oVVblQgSWZs"
      },
      "source": [
        "9 - Faça um programa que peça dois números, base e expoente, calcule e mostre o primeiro número elevado ao segundo número. Não utilize a função de potência da linguagem."
      ]
    },
    {
      "cell_type": "code",
      "execution_count": null,
      "metadata": {
        "id": "vrxed9zWScgg"
      },
      "outputs": [],
      "source": [
        "base = float(input('Digite a base: '))\n",
        "expoente = int(input('Digite o expoente: '))\n",
        "resultado = 1\n",
        "\n",
        "for _ in range(expoente):\n",
        "    resultado *= base\n",
        "\n",
        "print(f'{base} elevado a {expoente} é igual a {resultado}')"
      ]
    },
    {
      "cell_type": "markdown",
      "metadata": {
        "id": "zlDkkInJSh0T"
      },
      "source": [
        "10 - Faça um programa que peça 10 números inteiros, calcule e mostre a quantidade de números pares e a quantidade de números impares."
      ]
    },
    {
      "cell_type": "code",
      "execution_count": null,
      "metadata": {
        "id": "PJki_HSMSvVx"
      },
      "outputs": [],
      "source": [
        "numeros_pares = 0\n",
        "numeros_impares = 0\n",
        "\n",
        "for _ in range(10):\n",
        "    numero = int(input('Digite um número inteiro: '))\n",
        "\n",
        "    if numero % 2 == 0:\n",
        "        numeros_pares += 1\n",
        "    else:\n",
        "        numeros_impares += 1\n",
        "\n",
        "print(f'Quantidade de números pares: {numeros_pares}')\n",
        "print(f'Quantidade de números ímpares: {numeros_impares}')"
      ]
    },
    {
      "cell_type": "markdown",
      "metadata": {
        "id": "5Kb9_vBMS2Il"
      },
      "source": [
        "11 - A série de Fibonacci é formada pela seqüência 1,1,2,3,5,8,13,21,34,55,... Faça um programa capaz de gerar a série até o n−ésimo termo."
      ]
    },
    {
      "cell_type": "code",
      "execution_count": null,
      "metadata": {
        "id": "8xcRM5gxTEWG"
      },
      "outputs": [],
      "source": [
        "n = int(input(\"Digite o valor de n para a série de Fibonacci: \"))\n",
        "\n",
        "a, b = 1, 1\n",
        "for _ in range(n):\n",
        "    print(a, end=\" \")\n",
        "    a, b = b, a + bbb"
      ]
    },
    {
      "cell_type": "markdown",
      "metadata": {
        "id": "xtpzqlJdTEvD"
      },
      "source": [
        "12 - A série de Fibonacci é formada pela seqüência 0,1,1,2,3,5,8,13,21,34,55,... Faça um programa que gere a série até que o valor seja maior que 500."
      ]
    },
    {
      "cell_type": "code",
      "execution_count": null,
      "metadata": {
        "id": "JoOgkTGGTFzw"
      },
      "outputs": [],
      "source": [
        "a, b = 0, 1\n",
        "while a <= 500:\n",
        "    print(a, end=\" \")\n",
        "    a, b = b, a + b"
      ]
    },
    {
      "cell_type": "markdown",
      "metadata": {
        "id": "Z6UUFZj2TGLE"
      },
      "source": [
        "13 - Faça um programa que calcule o fatorial de um número inteiro fornecido pelo usuário. Ex.: 5!=5.4.3.2.1=120"
      ]
    },
    {
      "cell_type": "code",
      "execution_count": null,
      "metadata": {
        "id": "ryTvVvvTT-po"
      },
      "outputs": [],
      "source": [
        "numero = int(input(\"Digite um número para calcular o fatorial: \"))\n",
        "\n",
        "fatorial = 1\n",
        "for i in range(1, numero + 1):\n",
        "    fatorial *= i\n",
        "print(f\"{numero}! = {fatorial}\")"
      ]
    }
  ],
  "metadata": {
    "colab": {
      "provenance": [],
      "include_colab_link": true
    },
    "kernelspec": {
      "display_name": "Python 3",
      "name": "python3"
    },
    "language_info": {
      "name": "python"
    }
  },
  "nbformat": 4,
  "nbformat_minor": 0
}