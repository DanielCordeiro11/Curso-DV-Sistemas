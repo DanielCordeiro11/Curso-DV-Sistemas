{
  "nbformat": 4,
  "nbformat_minor": 0,
  "metadata": {
    "colab": {
      "provenance": [],
      "include_colab_link": true
    },
    "kernelspec": {
      "name": "python3",
      "display_name": "Python 3"
    },
    "language_info": {
      "name": "python"
    }
  },
  "cells": [
    {
      "cell_type": "markdown",
      "metadata": {
        "id": "view-in-github",
        "colab_type": "text"
      },
      "source": [
        "<a href=\"https://colab.research.google.com/github/DanielCordeiro11/Reposit-1/blob/main/Atividade_Python_Fun%C3%A7%C3%B5es.ipynb\" target=\"_parent\"><img src=\"https://colab.research.google.com/assets/colab-badge.svg\" alt=\"Open In Colab\"/></a>"
      ]
    },
    {
      "cell_type": "markdown",
      "source": [
        "1 - Faça um programa para imprimir:\n",
        "- 1\n",
        "- 2 2\n",
        "- 3 3 3\n",
        "- .....\n",
        "- n n n n n n ... n\n",
        "\n",
        "para um  informado pelo usuário. Use uma função que receba um valor  inteiro e imprima até a n-ésima linha."
      ],
      "metadata": {
        "id": "2tRHU4JfNmGx"
      }
    },
    {
      "cell_type": "code",
      "execution_count": null,
      "metadata": {
        "id": "OO_-i6PwNlMH"
      },
      "outputs": [],
      "source": [
        "def imprimir_padrao(n):\n",
        "    for i in range(1, n + 1):\n",
        "        print((str(i) + ' ') * i)\n",
        "\n",
        "n = int(input(\"Digite um número inteiro para imprimir o padrão: \"))\n",
        "\n",
        "imprimir_padrao(n)"
      ]
    },
    {
      "cell_type": "markdown",
      "source": [
        "2 - Escreva uma função chamada fatorial que calcula o fatorial de um número inteiro fornecido como argumento."
      ],
      "metadata": {
        "id": "yJJxsM1yN_QI"
      }
    },
    {
      "cell_type": "code",
      "source": [
        "def fatorial(numero):\n",
        "\n",
        "    if numero < 0:\n",
        "        return \"Erro: Não é possível calcular o fatorial de um número negativo.\"\n",
        "\n",
        "    elif numero == 0 or numero == 1:\n",
        "        return 1\n",
        "\n",
        "    else:\n",
        "        fat = 1\n",
        "        for i in range(2, numero + 1):\n",
        "            fat *= i\n",
        "        return fat\n",
        "\n",
        "numero = int(input(\"Digite um número inteiro para calcular o fatorial: \"))\n",
        "print(\"O fatorial de\", numero, \"é:\", fatorial(numero))\n"
      ],
      "metadata": {
        "id": "v51ET4R0OAY0"
      },
      "execution_count": null,
      "outputs": []
    },
    {
      "cell_type": "markdown",
      "source": [
        "3 - Escreva uma função chamada verifica_primo que verifica se um número é primo ou não e retorna True ou False."
      ],
      "metadata": {
        "id": "IfjmRiauW985"
      }
    },
    {
      "cell_type": "code",
      "source": [
        "def verifica_primo(numero):\n",
        "\n",
        "    if numero <= 1:\n",
        "        return False\n",
        "\n",
        "    elif numero <= 3:\n",
        "        return True\n",
        "\n",
        "    elif numero % 2 == 0 or numero % 3 == 0:\n",
        "        return False\n",
        "    else:\n",
        "\n",
        "        i = 5\n",
        "\n",
        "        while i * i <= numero:\n",
        "            if numero % i == 0 or numero % (i + 2) == 0:\n",
        "                return False\n",
        "            i += 6\n",
        "        return True\n",
        "\n",
        "numero = int(input(\"Digite um número para verificar se é primo: \"))\n",
        "print(\"O número\", numero, \"é primo?\" , verifica_primo(numero))\n"
      ],
      "metadata": {
        "id": "RQsLAWnlW-1r"
      },
      "execution_count": null,
      "outputs": []
    },
    {
      "cell_type": "markdown",
      "source": [
        "4 - Escreva uma função chamada inverte_string que aceita uma string como parâmetro e retorna a string invertida.\n"
      ],
      "metadata": {
        "id": "xOH7Ux6DOBFN"
      }
    },
    {
      "cell_type": "code",
      "source": [
        "def inverte_string(string):\n",
        "\n",
        "    return string[::-1]\n",
        "\n",
        "string_original = input(\"Digite uma string para inverter: \")\n",
        "string_invertida = inverte_string(string_original)\n",
        "print(\"A string invertida é:\", string_invertida)\n"
      ],
      "metadata": {
        "id": "mAdZcHVXOFcE"
      },
      "execution_count": null,
      "outputs": []
    },
    {
      "cell_type": "markdown",
      "source": [
        "5 - Escreva uma função chamada maior_valor que aceita uma lista de números como parâmetro e retorna o maior valor na lista."
      ],
      "metadata": {
        "id": "pYQnONjXOF1d"
      }
    },
    {
      "cell_type": "code",
      "source": [
        "def maior_valor(lista):\n",
        "\n",
        "    return max(lista)\n",
        "\n",
        "lista_numeros = [int(x) for x in input(\"Digite uma lista de números separados por espaço: \").split()]\n",
        "print(\"O maior valor na lista é:\", maior_valor(lista_numeros))\n"
      ],
      "metadata": {
        "id": "llIpsMKdOJKF"
      },
      "execution_count": null,
      "outputs": []
    },
    {
      "cell_type": "markdown",
      "source": [
        "6 - Escreva uma função chamada conta_vogais que aceita uma string como parâmetro e retorna o número de vogais na string."
      ],
      "metadata": {
        "id": "5pmst1XbOJmN"
      }
    },
    {
      "cell_type": "code",
      "source": [
        "def conta_vogais(string):\n",
        "\n",
        "    vogais = \"aeiouAEIOU\"\n",
        "\n",
        "    return sum(1 for char in string if char in vogais)\n",
        "\n",
        "string_input = input(\"Digite uma string para contar as vogais: \")\n",
        "numero_vogais = conta_vogais(string_input)\n",
        "print(\"O número de vogais na string é:\", numero_vogais)\n"
      ],
      "metadata": {
        "id": "8eqnJpzUOMHQ"
      },
      "execution_count": null,
      "outputs": []
    },
    {
      "cell_type": "markdown",
      "source": [
        "7 - Escreva uma função chamada soma_quadrados que aceita uma lista de números como parâmetro e retorna a soma dos quadrados desses números.\n"
      ],
      "metadata": {
        "id": "1uOBlWJiORJ2"
      }
    },
    {
      "cell_type": "code",
      "source": [
        "def soma_quadrados(lista):\n",
        "\n",
        "    return sum(x**2 for x in lista)\n",
        "\n",
        "lista_numeros = [int(x) for x in input(\"Digite uma lista de números separados por espaço: \").split()]\n",
        "soma_quadrados_resultado = soma_quadrados(lista_numeros)\n",
        "print(\"A soma dos quadrados dos números na lista é:\", soma_quadrados_resultado)\n"
      ],
      "metadata": {
        "id": "4DvZOlPSOX1a"
      },
      "execution_count": null,
      "outputs": []
    },
    {
      "cell_type": "markdown",
      "source": [
        "8 - Escreva uma função chamada imprime_tabuada que aceita um número inteiro como parâmetro e imprime a tabuada desse número de 1 a 10."
      ],
      "metadata": {
        "id": "hH1m893KOYKJ"
      }
    },
    {
      "cell_type": "code",
      "source": [
        "def imprime_tabuada(numero):\n",
        "\n",
        "    for i in range(1, 11):\n",
        "        print(numero, \"x\", i, \"=\", numero * i)\n",
        "\n",
        "numero_input = int(input(\"Digite um número para imprimir sua tabuada: \"))\n",
        "imprime_tabuada(numero_input)\n"
      ],
      "metadata": {
        "id": "VLOy2WeAOZAs"
      },
      "execution_count": null,
      "outputs": []
    }
  ]
}