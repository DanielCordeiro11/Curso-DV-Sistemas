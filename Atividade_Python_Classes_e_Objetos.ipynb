{
  "nbformat": 4,
  "nbformat_minor": 0,
  "metadata": {
    "colab": {
      "provenance": [],
      "include_colab_link": true
    },
    "kernelspec": {
      "name": "python3",
      "display_name": "Python 3"
    },
    "language_info": {
      "name": "python"
    }
  },
  "cells": [
    {
      "cell_type": "markdown",
      "metadata": {
        "id": "view-in-github",
        "colab_type": "text"
      },
      "source": [
        "<a href=\"https://colab.research.google.com/github/DanielCordeiro11/Reposit-1/blob/main/Atividade_Python_Classes_e_Objetos.ipynb\" target=\"_parent\"><img src=\"https://colab.research.google.com/assets/colab-badge.svg\" alt=\"Open In Colab\"/></a>"
      ]
    },
    {
      "cell_type": "markdown",
      "source": [
        "1 - Crie uma classe que modele um quadrado:\n",
        "\n",
        "- Atributos: Tamanho do lado\n",
        "- Métodos: Mudar valor do Lado, Retornar valor do Lado e calcular Área;"
      ],
      "metadata": {
        "id": "pOInZbF5DdZi"
      }
    },
    {
      "cell_type": "code",
      "execution_count": null,
      "metadata": {
        "colab": {
          "base_uri": "https://localhost:8080/"
        },
        "id": "uzrG2TVeDMn8",
        "outputId": "0cbdea2c-d324-4501-dce8-0feb3af84506"
      },
      "outputs": [
        {
          "output_type": "stream",
          "name": "stdout",
          "text": [
            "Lado do quadrado: 5\n",
            "Área do quadrado: 25\n",
            "Novo lado do quadrado: 7\n",
            "Nova área do quadrado: 49\n"
          ]
        }
      ],
      "source": [
        "class Quadrado:\n",
        "    def __init__(self, lado):\n",
        "        self.lado = lado\n",
        "\n",
        "    def mudar_lado(self, novo_lado):\n",
        "        self.lado = novo_lado\n",
        "\n",
        "    def retornar_lado(self):\n",
        "        return self.lado\n",
        "\n",
        "    def calcular_area(self):\n",
        "        return self.lado ** 2\n",
        "\n",
        "quadrado1 = Quadrado(5)\n",
        "print(f\"Lado do quadrado: {quadrado1.retornar_lado()}\")\n",
        "print(f\"Área do quadrado: {quadrado1.calcular_area()}\")\n",
        "\n",
        "quadrado1.mudar_lado(7)\n",
        "print(f\"Novo lado do quadrado: {quadrado1.retornar_lado()}\")\n",
        "print(f\"Nova área do quadrado: {quadrado1.calcular_area()}\")"
      ]
    },
    {
      "cell_type": "markdown",
      "source": [
        "2 - Crie uma classe que modele um retangulo:\n",
        "- Atributos: LadoA, LadoB (ou Comprimento e Largura, ou Base e Altura, a escolher)\n",
        "- Métodos: Mudar valor dos lados, Retornar valor dos lados, calcular Área e calcular Perímetro;\n",
        "- Crie um programa que utilize esta classe. Ele deve pedir ao usuário que informe as medidades de um local. Depois, deve criar um objeto com as medidas e calcular a quantidade de pisos e de rodapés necessárias para o local."
      ],
      "metadata": {
        "id": "Vrv7iB1xDjTo"
      }
    },
    {
      "cell_type": "code",
      "source": [
        "class Retangulo:\n",
        "    def __init__(self, lado_a, lado_b):\n",
        "        self.lado_a = lado_a\n",
        "        self.lado_b = lado_b\n",
        "\n",
        "    def mudar_lados(self, novo_lado_a, novo_lado_b):\n",
        "        self.lado_a = novo_lado_a\n",
        "        self.lado_b = novo_lado_b\n",
        "\n",
        "    def retornar_lados(self):\n",
        "        return self.lado_a, self.lado_b\n",
        "\n",
        "    def calcular_area(self):\n",
        "        return self.lado_a * self.lado_b\n",
        "\n",
        "    def calcular_perimetro(self):\n",
        "        return 2 * (self.lado_a + self.lado_b)\n",
        "\n",
        "if __name__ == \"__main__\":\n",
        "    lado_a_local = float(input(\"Informe o comprimento do local: \"))\n",
        "    lado_b_local = float(input(\"Informe a largura do local: \"))\n",
        "\n",
        "    local = Retangulo(lado_a_local, lado_b_local)\n",
        "    area_local = local.calcular_area()\n",
        "    perimetro_local = local.calcular_perimetro()\n",
        "    quantidade_pisos = area_local // 1\n",
        "    quantidade_rodapes = perimetro_local // 1\n",
        "\n",
        "    print(f\"\\nQuantidade de pisos necessários: {quantidade_pisos}\")\n",
        "    print(f\"Quantidade de rodapés necessários: {quantidade_rodapes}\")"
      ],
      "metadata": {
        "id": "-lHjKuEfFQv8"
      },
      "execution_count": null,
      "outputs": []
    },
    {
      "cell_type": "markdown",
      "source": [
        "3 - Crie uma classe que modele uma pessoa:\n",
        "- Atributos: nome, idade, peso e altura\n",
        "- Métodos: Envelhercer, engordar, emagrecer, crescer. Obs: Por padrão, a cada ano que nossa pessoa envelhece, sendo a idade dela menor que 21 anos, ela deve crescer 0,5 cm."
      ],
      "metadata": {
        "id": "ecEsqJJWDvmC"
      }
    },
    {
      "cell_type": "code",
      "source": [
        "class Pessoa:\n",
        "    def __init__(self, nome, idade, peso, altura):\n",
        "        self.nome = nome\n",
        "        self.idade = idade\n",
        "        self.peso = peso\n",
        "        self.altura = altura\n",
        "\n",
        "    def envelhecer(self, anos):\n",
        "        self.idade += anos\n",
        "        if self.idade < 21:\n",
        "            self.crescer(0.5 * anos)\n",
        "\n",
        "    def engordar(self, kg):\n",
        "        self.peso += kg\n",
        "\n",
        "    def emagrecer(self, kg):\n",
        "        self.peso -= kg\n",
        "\n",
        "    def crescer(self, cm):\n",
        "        self.altura += cm\n",
        "\n",
        "    def imprimir_informacoes(self):\n",
        "        print(f\"Nome: {self.nome}\")\n",
        "        print(f\"Idade: {self.idade} anos\")\n",
        "        print(f\"Peso: {self.peso} kg\")\n",
        "        print(f\"Altura: {self.altura} cm\")\n",
        "\n",
        "pessoa1 = Pessoa(\"João\", 18, 70, 170)\n",
        "pessoa1.imprimir_informacoes()\n",
        "\n",
        "pessoa1.envelhecer(3)\n",
        "pessoa1.engordar(5)\n",
        "pessoa1.crescer(2)\n",
        "pessoa1.imprimir_informacoes()"
      ],
      "metadata": {
        "id": "MhvGaK9KFLR4"
      },
      "execution_count": null,
      "outputs": []
    },
    {
      "cell_type": "markdown",
      "source": [
        "4 - Crie uma classe para implementar uma conta corrente.\n",
        " - A classe deve possuir os seguintes atributos: número da conta, nome do correntista e saldo.\n",
        " - Os métodos são os seguintes: alterarNome, depósito e saque;\n",
        " - No construtor, saldo é opcional, com valor default zero e os demais atributos são obrigatórios."
      ],
      "metadata": {
        "id": "SXX8zoNpG30W"
      }
    },
    {
      "cell_type": "code",
      "source": [
        "class ContaCorrente:\n",
        "    def __init__(self, numero_conta, nome_correntista, saldo=0):\n",
        "        self.numero_conta = numero_conta\n",
        "        self.nome_correntista = nome_correntista\n",
        "        self.saldo = saldo\n",
        "\n",
        "    def alterar_nome(self, novo_nome):\n",
        "        self.nome_correntista = novo_nome\n",
        "        print(\"Nome do correntista alterado com sucesso.\")\n",
        "\n",
        "    def deposito(self, valor):\n",
        "        if valor > 0:\n",
        "            self.saldo += valor\n",
        "            print(f\"Depósito de R${valor} realizado com sucesso.\")\n",
        "        else:\n",
        "            print(\"Valor de depósito inválido. Insira um valor positivo.\")\n",
        "\n",
        "    def saque(self, valor):\n",
        "        if valor > 0 and valor <= self.saldo:\n",
        "            self.saldo -= valor\n",
        "            print(f\"Saque de R${valor} realizado com sucesso.\")\n",
        "        else:\n",
        "            print(\"Valor de saque inválido ou saldo insuficiente.\")\n",
        "\n",
        "conta = ContaCorrente(numero_conta=\"12345\", nome_correntista=\"João da Silva\", saldo=1000.00)\n",
        "\n",
        "print(f\"Saldo inicial: R${conta.saldo}\")\n",
        "\n",
        "conta.deposito(500.00)\n",
        "conta.saque(200.00)\n",
        "\n",
        "print(f\"Saldo atual: R${conta.saldo}\")\n",
        "\n",
        "conta.alterar_nome(\"João Oliveira\")"
      ],
      "metadata": {
        "id": "-RRM_IqhHrvw"
      },
      "execution_count": null,
      "outputs": []
    }
  ]
}