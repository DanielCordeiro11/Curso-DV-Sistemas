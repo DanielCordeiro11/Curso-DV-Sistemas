{
  "nbformat": 4,
  "nbformat_minor": 0,
  "metadata": {
    "colab": {
      "provenance": [],
      "include_colab_link": true
    },
    "kernelspec": {
      "name": "python3",
      "display_name": "Python 3"
    },
    "language_info": {
      "name": "python"
    }
  },
  "cells": [
    {
      "cell_type": "markdown",
      "metadata": {
        "id": "view-in-github",
        "colab_type": "text"
      },
      "source": [
        "<a href=\"https://colab.research.google.com/github/DanielCordeiro11/Reposit-1/blob/main/Atividade_Python_Estruturas_Sequencias.ipynb\" target=\"_parent\"><img src=\"https://colab.research.google.com/assets/colab-badge.svg\" alt=\"Open In Colab\"/></a>"
      ]
    },
    {
      "cell_type": "markdown",
      "source": [
        "1 - Faça um Programa que mostre a mensagem \"Alo mundo\" na tela."
      ],
      "metadata": {
        "id": "46iG2DRmg79i"
      }
    },
    {
      "cell_type": "code",
      "execution_count": null,
      "metadata": {
        "colab": {
          "base_uri": "https://localhost:8080/"
        },
        "id": "9gKeuhyiVmZw",
        "outputId": "c4e6fe4d-2d48-4ab2-80fe-1d2bddfd857f"
      },
      "outputs": [
        {
          "output_type": "stream",
          "name": "stdout",
          "text": [
            "Alo Mundo ... Hello World\n"
          ]
        }
      ],
      "source": [
        "print('Alo Mundo ... Hello World')"
      ]
    },
    {
      "cell_type": "markdown",
      "source": [
        "2 - Faça um Programa que peça um número e então mostre a mensagem .\n"
      ],
      "metadata": {
        "id": "qahLuq0Vishs"
      }
    },
    {
      "cell_type": "code",
      "source": [
        "num = int(input('Escreva um número ai: '))\n",
        "print(num)"
      ],
      "metadata": {
        "id": "LZSyZVCZi1ae"
      },
      "execution_count": null,
      "outputs": []
    },
    {
      "cell_type": "markdown",
      "source": [
        "3 - Faça um Programa que peça dois números e imprima a soma.\n"
      ],
      "metadata": {
        "id": "ki4Z-azEjDh4"
      }
    },
    {
      "cell_type": "code",
      "source": [
        "num1 = int (input(\"Escreva um número: \"))\n",
        "num2 = int (input(\"Escreva outro número: \"))\n",
        "\n",
        "total = num1 + num2\n",
        "\n",
        "print (f'A soma deles é: {total}')\n"
      ],
      "metadata": {
        "id": "CbK56z_gjEdV"
      },
      "execution_count": null,
      "outputs": []
    },
    {
      "cell_type": "markdown",
      "source": [
        "4 - Faça um Programa que peça as 4 notas bimestrais e mostre a média.\n"
      ],
      "metadata": {
        "id": "3LUCRS4qjNLK"
      }
    },
    {
      "cell_type": "code",
      "source": [
        "nota1 = float(input('Digite a primeira nota: '))\n",
        "nota2 = float(input('Digite a segunda nota: '))\n",
        "nota3 = float(input('Digite a terceira nota: '))\n",
        "nota4 = float(input('Digite a quarta nota: '))\n",
        "\n",
        "media = (nota1 + nota2 + nota3 + nota4) / 4\n",
        "\n",
        "print(f'A sua média é {media}')"
      ],
      "metadata": {
        "colab": {
          "base_uri": "https://localhost:8080/"
        },
        "id": "XzCRxRrPjV-5",
        "outputId": "5e1e1795-12c4-4aff-b0fb-ce1f0e0ce327"
      },
      "execution_count": null,
      "outputs": [
        {
          "output_type": "stream",
          "name": "stdout",
          "text": [
            "Digite a primeira nota: 6\n",
            "Digite a segunda nota: 7\n",
            "Digite a terceira nota: 4\n",
            "Digite a quarta nota: 10\n",
            "A sua média é 6.75\n"
          ]
        }
      ]
    },
    {
      "cell_type": "markdown",
      "source": [
        "5 - Faça um Programa que converta metros para centímetros.\n"
      ],
      "metadata": {
        "id": "Dfj1cZTUkcvW"
      }
    },
    {
      "cell_type": "code",
      "source": [
        "m = float(input('Quantos metros você quer saber em centímetros? '))\n",
        "cm = m * 100\n",
        "print(f'Você tem {cm}cm')"
      ],
      "metadata": {
        "colab": {
          "base_uri": "https://localhost:8080/"
        },
        "id": "Xa9TMYwzke9s",
        "outputId": "9b282cf9-cf41-4b75-d64d-a90368c806c8"
      },
      "execution_count": null,
      "outputs": [
        {
          "output_type": "stream",
          "name": "stdout",
          "text": [
            "Quantos metros você quer saber em centímetros? 2\n",
            "Você tem 200.0cm\n"
          ]
        }
      ]
    },
    {
      "cell_type": "markdown",
      "source": [
        "6 - Faça um Programa que peça o raio de um círculo, calcule e mostre sua área.\n"
      ],
      "metadata": {
        "id": "g_2v8GA_lfpp"
      }
    },
    {
      "cell_type": "code",
      "source": [
        "r = float(input('Qual o raio do circulo? '))\n",
        "area = 3,14 * r ** 2\n",
        "print(f\"A área do círculo é {area}\")"
      ],
      "metadata": {
        "id": "A5DnNpOOljBF"
      },
      "execution_count": null,
      "outputs": []
    },
    {
      "cell_type": "markdown",
      "source": [
        "7 - Faça um Programa que calcule a área de um quadrado, em seguida mostre o dobro desta área para o usuário.\n"
      ],
      "metadata": {
        "id": "s66Ae-BMob0v"
      }
    },
    {
      "cell_type": "code",
      "source": [
        "lado = float(input(\"Digite o lado do quadrado: \"))\n",
        "area = lado ** 2\n",
        "dobro = 2 * area\n",
        "print(f\"O dobro da área do quadrado é: {dobro}\")"
      ],
      "metadata": {
        "colab": {
          "base_uri": "https://localhost:8080/"
        },
        "id": "hCKnTGSbod9B",
        "outputId": "d6626f8c-0eed-4a0f-b9af-6a4b3a636216"
      },
      "execution_count": null,
      "outputs": [
        {
          "output_type": "stream",
          "name": "stdout",
          "text": [
            "Digite o lado do quadrado: 3\n",
            "O dobro da área do quadrado é: 18.0\n"
          ]
        }
      ]
    },
    {
      "cell_type": "markdown",
      "source": [
        "8 - Faça um Programa que pergunte quanto você ganha por hora e o número de horas trabalhadas no mês. Calcule e mostre o total do seu salário no referido mês.\n"
      ],
      "metadata": {
        "id": "WiZRXV06ovlC"
      }
    },
    {
      "cell_type": "code",
      "source": [
        "valor = float(input(\"Digite quanto você ganha por hora: \"))\n",
        "horas = float(input(\"Digite o número de horas trabalhadas no mês: \"))\n",
        "salario = valor * horas\n",
        "print(f\"Seu salário no mês é: R$ {salario}\")"
      ],
      "metadata": {
        "id": "DGp0nVZyoxqp"
      },
      "execution_count": null,
      "outputs": []
    },
    {
      "cell_type": "markdown",
      "source": [
        "9 - Faça um Programa que peça a temperatura em graus Fahrenheit, transforme e mostre a temperatura em graus Celsius. C = 5 * ((F-32) / 9).\n"
      ],
      "metadata": {
        "id": "LKVNcgNDpHkw"
      }
    },
    {
      "cell_type": "code",
      "source": [
        "f = float(input(\"Digite a temperatura em Fahrenheit: \"))\n",
        "c = 5 * ((f - 32) / 9)\n",
        "print(f\"A temperatura em Celsius é: {c}C\")"
      ],
      "metadata": {
        "colab": {
          "base_uri": "https://localhost:8080/"
        },
        "id": "yhrMLBW9pJby",
        "outputId": "63fa39fb-98c2-4e30-9f02-f3ab52b49cd4"
      },
      "execution_count": null,
      "outputs": [
        {
          "output_type": "stream",
          "name": "stdout",
          "text": [
            "Digite a temperatura em Fahrenheit: 23\n",
            "A temperatura em Celsius é: -5.0C\n"
          ]
        }
      ]
    },
    {
      "cell_type": "markdown",
      "source": [
        "10 - Faça um Programa que peça a temperatura em graus Celsius, transforme e mostre em graus Fahrenheit.\n"
      ],
      "metadata": {
        "id": "6wsn4txbpbfb"
      }
    },
    {
      "cell_type": "code",
      "source": [
        "c = float(input(\"Digite a temperatura em Celsius: \"))\n",
        "f = (c * 1.8) + 32\n",
        "print(f\"A temperatura em Fahrenheit é: {f}F\")"
      ],
      "metadata": {
        "colab": {
          "base_uri": "https://localhost:8080/"
        },
        "id": "1MJRvkU_pdEV",
        "outputId": "7761d203-4c33-4a48-c453-e30771c4c49b"
      },
      "execution_count": null,
      "outputs": [
        {
          "output_type": "stream",
          "name": "stdout",
          "text": [
            "Digite a temperatura em Celsius: -5\n",
            "A temperatura em Fahrenheit é: 23.0F\n"
          ]
        }
      ]
    },
    {
      "cell_type": "markdown",
      "source": [
        "11 - Faça um Programa que peça 2 números inteiros e um número real. Calcule e mostre:\n",
        "  - O produto do dobro do primeiro com metade do segundo .\n",
        "  - A soma do triplo do primeiro com o terceiro.\n",
        "  - O terceiro elevado ao cubo."
      ],
      "metadata": {
        "id": "7c06b21IdGD-"
      }
    },
    {
      "cell_type": "code",
      "source": [
        "int1 = int(input('Digite um número inteiro: '))\n",
        "int2 = int(input('Digite outro número inteiro: '))\n",
        "real = float(input('Digite um número real, pode ser um quebrado mesmo: '))\n",
        "\n",
        "produto = (int1 * 2) * (int2 / 2)\n",
        "soma = (int1 * 3) + real\n",
        "elevado = (real ** 3)\n",
        "\n",
        "print(f'Produto = {produto}')\n",
        "print(f'Soma = {soma}')\n",
        "print(f'terceiro calculo = {elevado}')"
      ],
      "metadata": {
        "id": "FznTh8u6dfXq",
        "colab": {
          "base_uri": "https://localhost:8080/"
        },
        "outputId": "585016a5-1adc-4ece-b19b-4e8ffea9ae5d"
      },
      "execution_count": null,
      "outputs": [
        {
          "output_type": "stream",
          "name": "stdout",
          "text": [
            "Digite um número inteiro: 2\n",
            "Digite outro número inteiro: 4\n",
            "Digite um número real, pode ser um quebrado mesmo: 2.5\n",
            "Produto = 8.0\n",
            "Soma = 8.5\n",
            "terceiro calculo = 15.625\n"
          ]
        }
      ]
    },
    {
      "cell_type": "markdown",
      "source": [
        "12 - João Papo-de-Pescador, homem de bem, comprou um microcomputador para controlar o rendimento diário de seu trabalho. Toda vez que ele traz um peso de peixes maior que o estabelecido pelo regulamento de pesca do estado de São Paulo (50 quilos) deve pagar uma multa de R$ 4,00 por quilo excedente. João precisa que você faça um programa que leia a variável  (peso de peixes) e calcule o excesso. Gravar na variável  a quantidade de quilos além do limite e na variável  o valor da multa que João deverá pagar. Imprima os dados do programa com as mensagens adequadas."
      ],
      "metadata": {
        "id": "hiOhH24rgiiD"
      }
    },
    {
      "cell_type": "code",
      "source": [
        "peso_peixe = float(input('Informe o peso dos peixes (em quilos): '))\n",
        "limite_peso = 50\n",
        "if peso_peixe > limite_peso:\n",
        "  excesso = peso_peixe - limite_peso\n",
        "  multa = excesso * 4\n",
        "  print(f'Peso dos peixes: {peso}')"
      ],
      "metadata": {
        "id": "RD8L8qHugLGF"
      },
      "execution_count": null,
      "outputs": []
    }
  ]
}