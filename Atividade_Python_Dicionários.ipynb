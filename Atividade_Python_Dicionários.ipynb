{
  "nbformat": 4,
  "nbformat_minor": 0,
  "metadata": {
    "colab": {
      "provenance": [],
      "include_colab_link": true
    },
    "kernelspec": {
      "name": "python3",
      "display_name": "Python 3"
    },
    "language_info": {
      "name": "python"
    }
  },
  "cells": [
    {
      "cell_type": "markdown",
      "metadata": {
        "id": "view-in-github",
        "colab_type": "text"
      },
      "source": [
        "<a href=\"https://colab.research.google.com/github/DanielCordeiro11/Reposit-1/blob/main/Atividade_Python_Dicion%C3%A1rios.ipynb\" target=\"_parent\"><img src=\"https://colab.research.google.com/assets/colab-badge.svg\" alt=\"Open In Colab\"/></a>"
      ]
    },
    {
      "cell_type": "markdown",
      "source": [
        "1. Faça um programa que possua um Dicionário, adicione elementos ao dicionário e os mostre na tela."
      ],
      "metadata": {
        "id": "vqbdyXgUfQ8X"
      }
    },
    {
      "cell_type": "code",
      "execution_count": null,
      "metadata": {
        "colab": {
          "base_uri": "https://localhost:8080/"
        },
        "id": "hbNThkwid9yU",
        "outputId": "39259d90-3d0f-4e31-ea4f-6dcda0467194"
      },
      "outputs": [
        {
          "output_type": "stream",
          "name": "stdout",
          "text": [
            "Dicionário: {'nome': 'João', 'idade': 25, 'cidade': 'Exemploville'}\n"
          ]
        }
      ],
      "source": [
        "dicio = {}\n",
        "\n",
        "dicio['nome'] = 'João'\n",
        "dicio['idade'] = 25\n",
        "dicio['cidade'] = 'Recife'\n",
        "\n",
        "print(\"Dicionário:\", dicio)"
      ]
    },
    {
      "cell_type": "markdown",
      "source": [
        "2. Faça um programa, utilizando Dicionários, que peça para o usuário inserir o nome de três produtos de mercado e seus respectivos preços e os mostre na tela."
      ],
      "metadata": {
        "id": "783Ok7upfYMi"
      }
    },
    {
      "cell_type": "code",
      "source": [
        "produtos = {}\n",
        "\n",
        "for i in range(3):\n",
        "    produto = input(f\"Insira o nome do {i + 1} produto: \")\n",
        "    preco = float(input(f\"Insira o preço de {produto}: R$ \"))\n",
        "    produtos[produto] = preco\n",
        "\n",
        "print(\"\\nProdutos e Preços:\")\n",
        "for produto, preco in produtos.items():\n",
        "    print(f\"{produto}: R$ {preco:.2f}\")"
      ],
      "metadata": {
        "colab": {
          "base_uri": "https://localhost:8080/"
        },
        "id": "wTUWzqNufauP",
        "outputId": "e8ed7770-77c2-4019-a1d8-5b45619e3003"
      },
      "execution_count": null,
      "outputs": [
        {
          "output_type": "stream",
          "name": "stdout",
          "text": [
            "Insira o nome do 1 produto: dfghj\n",
            "Insira o preço de dfghj: R$ 8\n",
            "Insira o nome do 2 produto: tyxg\n",
            "Insira o preço de tyxg: R$ 5\n",
            "Insira o nome do 3 produto: idtc\n",
            "Insira o preço de idtc: R$ 4.56\n",
            "\n",
            "Produtos e Preços:\n",
            "dfghj: R$ 8.00\n",
            "tyxg: R$ 5.00\n",
            "idtc: R$ 4.56\n"
          ]
        }
      ]
    },
    {
      "cell_type": "markdown",
      "source": [
        "3. Faça um programa, utilizando Dicionários, que peça para o usuário inserir quatro notas e mostre na tela as notas e a média entre elas."
      ],
      "metadata": {
        "id": "23n8OZvsgFZH"
      }
    },
    {
      "cell_type": "code",
      "source": [
        "notas = {}\n",
        "\n",
        "for i in range(4):\n",
        "    nota = float(input(f\"Insira a nota {i + 1}: \"))\n",
        "    notas[f\"Nota {i + 1}\"] = nota\n",
        "\n",
        "media = sum(notas.values()) / len(notas)\n",
        "\n",
        "print(\"\\nNotas:\")\n",
        "for chave, valor in notas.items():\n",
        "    print(f\"{chave}: {valor}\")\n",
        "\n",
        "print(f\"Média: {media:.2f}\")"
      ],
      "metadata": {
        "colab": {
          "base_uri": "https://localhost:8080/"
        },
        "id": "B0j_CDdOgIpa",
        "outputId": "60e85cca-7ffc-4fab-faad-15452c6add5e"
      },
      "execution_count": null,
      "outputs": [
        {
          "output_type": "stream",
          "name": "stdout",
          "text": [
            "Insira a nota 1: 8\n",
            "Insira a nota 2: 10\n",
            "Insira a nota 3: 4\n",
            "Insira a nota 4: 10\n",
            "\n",
            "Notas:\n",
            "Nota 1: 8.0\n",
            "Nota 2: 10.0\n",
            "Nota 3: 4.0\n",
            "Nota 4: 10.0\n",
            "Média: 8.00\n"
          ]
        }
      ]
    },
    {
      "cell_type": "markdown",
      "source": [
        "4. Faça um programa, utilizando Dicionários, que:\n",
        "\n",
        "1° Passo: Peça para o usuário inserir quatro coisas em uma “Caixa Misteriosa” .\n",
        "\n",
        "2° Passo: Peça para o usuário inserir um número.\n",
        "\n",
        "3° Passo: Mostre na tela o que foi inserido na posição do número inserido pelo usuário."
      ],
      "metadata": {
        "id": "T26VhGxVgJEK"
      }
    },
    {
      "cell_type": "code",
      "source": [
        "caixa_misteriosa = {}\n",
        "for i in range(1, 5):\n",
        "    item = input(f\"Insira o {i} item na Caixa Misteriosa: \")\n",
        "    caixa_misteriosa[i] = item\n",
        "\n",
        "numero = int(input(\"Agora, insira um número de 1 a 4: \"))\n",
        "\n",
        "if numero in caixa_misteriosa:\n",
        "    print(f\"Na posição {numero} da Caixa Misteriosa, temos: {caixa_misteriosa[numero]}\")\n",
        "else:\n",
        "    print(\"Número inválido. Por favor, insira um número de 1 a 4.\")"
      ],
      "metadata": {
        "colab": {
          "base_uri": "https://localhost:8080/"
        },
        "id": "wRNlDEfChWMy",
        "outputId": "4eeee0da-dbd3-47c3-9586-9e5095fe1bf4"
      },
      "execution_count": null,
      "outputs": [
        {
          "output_type": "stream",
          "name": "stdout",
          "text": [
            "Insira o 1 item na Caixa Misteriosa: Padsad\n",
            "Insira o 2 item na Caixa Misteriosa: aksjdb\n",
            "Insira o 3 item na Caixa Misteriosa: ypnmht\n",
            "Insira o 4 item na Caixa Misteriosa: peign\n",
            "Agora, insira um número de 1 a 4: 3\n",
            "Na posição 3 da Caixa Misteriosa, temos: ypnmht\n"
          ]
        }
      ]
    },
    {
      "cell_type": "markdown",
      "source": [
        "5. Faça um programa, utilizando Dicionários, que:\n",
        "\n",
        "1° Passo: Peça para o usuário inserir o nome de três funcionários e os mostre na tela.\n",
        "\n",
        "2° Passo: Peça para o usuário demitir um funcionário e mostre na tela os funcionários restantes."
      ],
      "metadata": {
        "id": "6770xN0-hbF0"
      }
    },
    {
      "cell_type": "code",
      "source": [
        "funcionarios = {}\n",
        "\n",
        "for i in range(3):\n",
        "    nome = input(f\"Insira o nome do {i + 1}º funcionário: \")\n",
        "    funcionarios[nome] = True\n",
        "\n",
        "print(\"\\nFuncionários:\")\n",
        "for nome in funcionarios:\n",
        "    print(nome)\n",
        "\n",
        "nome_demitido = input(\"\\nInsira o nome do funcionário a ser demitido: \")\n",
        "\n",
        "if nome_demitido in funcionarios:\n",
        "    del funcionarios[nome_demitido]\n",
        "    print(f\"\\nFuncionário {nome_demitido} demitido com sucesso!\")\n",
        "else:\n",
        "    print(f\"\\nFuncionário {nome_demitido} não encontrado.\")\n",
        "\n",
        "print(\"\\nFuncionários restantes:\")\n",
        "for nome in funcionarios:\n",
        "    print(nome)\n"
      ],
      "metadata": {
        "colab": {
          "base_uri": "https://localhost:8080/"
        },
        "id": "AZqB_2Lnhc7T",
        "outputId": "a4cfe3be-dbd9-4c19-c605-075195e6c874"
      },
      "execution_count": null,
      "outputs": [
        {
          "output_type": "stream",
          "name": "stdout",
          "text": [
            "Insira o nome do 1º funcionário: sdfghj\n",
            "Insira o nome do 2º funcionário: wertyui\n",
            "Insira o nome do 3º funcionário: xcvbnm\n",
            "\n",
            "Funcionários:\n",
            "sdfghj\n",
            "wertyui\n",
            "xcvbnm\n",
            "\n",
            "Insira o nome do funcionário a ser demitido: 3\n",
            "\n",
            "Funcionário 3 não encontrado.\n",
            "\n",
            "Funcionários restantes:\n",
            "sdfghj\n",
            "wertyui\n",
            "xcvbnm\n"
          ]
        }
      ]
    }
  ]
}