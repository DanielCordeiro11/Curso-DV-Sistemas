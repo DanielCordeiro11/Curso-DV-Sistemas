{
  "nbformat": 4,
  "nbformat_minor": 0,
  "metadata": {
    "colab": {
      "provenance": [],
      "include_colab_link": true
    },
    "kernelspec": {
      "name": "python3",
      "display_name": "Python 3"
    },
    "language_info": {
      "name": "python"
    }
  },
  "cells": [
    {
      "cell_type": "markdown",
      "metadata": {
        "id": "view-in-github",
        "colab_type": "text"
      },
      "source": [
        "<a href=\"https://colab.research.google.com/github/DanielCordeiro11/Reposit-1/blob/main/Atividade_Python_Classes_e_Objetos_2.ipynb\" target=\"_parent\"><img src=\"https://colab.research.google.com/assets/colab-badge.svg\" alt=\"Open In Colab\"/></a>"
      ]
    },
    {
      "cell_type": "markdown",
      "source": [
        "1. Crie uma classe que modele uma pessoa:\n",
        "\n",
        "(a) Atributos: nome, idade e endereço.\n",
        "\n",
        "(b) Metodos: mostrar endereço e alterar endereço."
      ],
      "metadata": {
        "id": "kMjo3GaMv2D-"
      }
    },
    {
      "cell_type": "code",
      "source": [
        "class Pessoa:\n",
        "    def __init__(self, nome, idade, endereco):\n",
        "        self.nome = nome\n",
        "        self.idade = idade\n",
        "        self.endereco = endereco\n",
        "\n",
        "    def mostrar_endereco(self):\n",
        "        print(f\"Endereço: {self.endereco}\")\n",
        "\n",
        "    def alterar_endereco(self, novo_endereco):\n",
        "        self.endereco = novo_endereco\n",
        "        print(\"Endereço alterado com sucesso.\")\n",
        "\n",
        "pessoa = Pessoa(nome=\"Maria\", idade=25, endereco=\"Rua A, 123\")\n",
        "pessoa.mostrar_endereco()\n",
        "\n",
        "pessoa.alterar_endereco(\"Avenida B, 456\")\n",
        "pessoa.mostrar_endereco()"
      ],
      "metadata": {
        "colab": {
          "base_uri": "https://localhost:8080/"
        },
        "id": "ANGPwtjsy0BR",
        "outputId": "237f51d5-3358-4130-82a5-e8804a770d15"
      },
      "execution_count": null,
      "outputs": [
        {
          "output_type": "stream",
          "name": "stdout",
          "text": [
            "Endereço: Rua A, 123\n",
            "Endereço alterado com sucesso.\n",
            "Endereço: Avenida B, 456\n"
          ]
        }
      ]
    },
    {
      "cell_type": "markdown",
      "source": [
        "2. Crie uma classe que modele uma aluno:\n",
        "\n",
        "(a) Atributos: nome, numero de matrıcula e curso.\n",
        "\n",
        "(b) Metodos: mostrar curso e alterar curso."
      ],
      "metadata": {
        "id": "JmEQnEA21bgm"
      }
    },
    {
      "cell_type": "code",
      "source": [
        "class Aluno:\n",
        "    def __init__(self, nome, matricula, curso):\n",
        "        self.nome = nome\n",
        "        self.matricula = matricula\n",
        "        self.curso = curso\n",
        "\n",
        "    def mostrar_curso(self):\n",
        "        return self.curso\n",
        "\n",
        "    def alterar_curso(self, novo_curso):\n",
        "        self.curso = novo_curso\n",
        "        return \"Curso alterado com sucesso\"\n",
        "\n",
        "aluno1 = Aluno(\"Maria\", \"123456\", \"Engenharia\")\n",
        "print(\"Curso atual:\", aluno1.mostrar_curso())\n",
        "\n",
        "aluno1.alterar_curso(\"Ciência da Computação\")\n",
        "print(\"Novo curso:\", aluno1.mostrar_curso())"
      ],
      "metadata": {
        "colab": {
          "base_uri": "https://localhost:8080/"
        },
        "id": "ysShzyEk2RQO",
        "outputId": "5f061675-7db9-45ae-e77c-98cfb253edc4"
      },
      "execution_count": null,
      "outputs": [
        {
          "output_type": "stream",
          "name": "stdout",
          "text": [
            "Curso atual: Engenharia\n",
            "Novo curso: Ciência da Computação\n"
          ]
        }
      ]
    },
    {
      "cell_type": "markdown",
      "source": [
        "3. Crie uma classe representando os alunos de um determinado curso. A classe deve conter os atributos matrícula do aluno, nome, nota da primeira prova, nota da segunda prova e nota da terceira prova. Crie metodos para acessar o nome e a media do aluno.\n",
        "\n",
        "(a) Permita ao usuario entrar com os dados de 5 alunos.\n",
        "\n",
        "(b) Encontre o aluno com maior media geral.\n",
        "\n",
        "(c) Encontre o aluno com menor media geral.\n",
        "\n",
        "(d) Para cada aluno diga se ele foi aprovado ou reprovado, considerando o valor 6 para aprovação."
      ],
      "metadata": {
        "id": "iG86wHOv2ug2"
      }
    },
    {
      "cell_type": "code",
      "source": [
        "class Aluno:\n",
        "    def __init__(self, matricula, nome, nota1, nota2, nota3):\n",
        "        self.matricula = matricula\n",
        "        self.nome = nome\n",
        "        self.nota1 = nota1\n",
        "        self.nota2 = nota2\n",
        "        self.nota3 = nota3\n",
        "\n",
        "    def calcular_media(self):\n",
        "        return (self.nota1 + self.nota2 + self.nota3) / 3\n",
        "\n",
        "    def status_aprovacao(self):\n",
        "        media = self.calcular_media()\n",
        "        return \"Aprovado\" if media >= 6 else \"Reprovado\"\n",
        "\n",
        "alunos = []\n",
        "\n",
        "for _ in range(5):\n",
        "    matricula = input(\"Matrícula do aluno: \")\n",
        "    nome = input(\"Nome do aluno: \")\n",
        "    nota1 = float(input(\"Nota da primeira prova: \"))\n",
        "    nota2 = float(input(\"Nota da segunda prova: \"))\n",
        "    nota3 = float(input(\"Nota da terceira prova: \"))\n",
        "\n",
        "    aluno = Aluno(matricula, nome, nota1, nota2, nota3)\n",
        "    alunos.append(aluno)\n",
        "\n",
        "melhor_aluno = max(alunos, key=lambda x: x.calcular_media())\n",
        "pior_aluno = min(alunos, key=lambda x: x.calcular_media())\n",
        "\n",
        "print(f\"\\nMelhor aluno:\\nNome: {melhor_aluno.nome}\\nMatrícula: {melhor_aluno.matricula}\\nMédia: {melhor_aluno.calcular_media()}\\nStatus: {melhor_aluno.status_aprovacao()}\\n\")\n",
        "print(f\"Pior aluno:\\nNome: {pior_aluno.nome}\\nMatrícula: {pior_aluno.matricula}\\nMédia: {pior_aluno.calcular_media()}\\nStatus: {pior_aluno.status_aprovacao()}\\n\")"
      ],
      "metadata": {
        "colab": {
          "base_uri": "https://localhost:8080/"
        },
        "id": "ld2RVmNY3LmJ",
        "outputId": "13cb0540-9ae1-40ae-ab08-4c7ec6c00c4c"
      },
      "execution_count": null,
      "outputs": [
        {
          "output_type": "stream",
          "name": "stdout",
          "text": [
            "Matrícula do aluno: 001\n",
            "Nome do aluno: Lucas Henrique\n",
            "Nota da primeira prova: 7\n",
            "Nota da segunda prova: 8.5\n",
            "Nota da terceira prova: 3\n",
            "Matrícula do aluno: 002\n",
            "Nome do aluno: Vitória\n",
            "Nota da primeira prova: 9\n",
            "Nota da segunda prova: 10\n",
            "Nota da terceira prova: 8.5\n",
            "Matrícula do aluno: 003\n",
            "Nome do aluno: Alberto\n",
            "Nota da primeira prova: 9\n",
            "Nota da segunda prova: 10\n",
            "Nota da terceira prova: 10\n",
            "Matrícula do aluno: 004\n",
            "Nome do aluno: dfghjklç\n",
            "Nota da primeira prova: 7\n",
            "Nota da segunda prova: 4\n",
            "Nota da terceira prova: 2\n",
            "Matrícula do aluno: 789\n",
            "Nome do aluno: tvuybihuoji\n",
            "Nota da primeira prova: 3\n",
            "Nota da segunda prova: 10\n",
            "Nota da terceira prova: 10\n",
            "\n",
            "Melhor aluno:\n",
            "Nome: Alberto\n",
            "Matrícula: 003\n",
            "Média: 9.666666666666666\n",
            "Status: Aprovado\n",
            "\n",
            "Pior aluno:\n",
            "Nome: dfghjklç\n",
            "Matrícula: 004\n",
            "Média: 4.333333333333333\n",
            "Status: Reprovado\n",
            "\n"
          ]
        }
      ]
    },
    {
      "cell_type": "markdown",
      "source": [
        "4. Crie uma classe para representar um horario (hora, minuto e segundo). Implemente os metodos para fazer as operacoes de incremento (de segundos) no horario e diferença entre dois horarios."
      ],
      "metadata": {
        "id": "YRuEP4fE4lIc"
      }
    },
    {
      "cell_type": "code",
      "source": [
        "class Horario:\n",
        "    def __init__(self, hora, minuto, segundo):\n",
        "        self.hora = hora\n",
        "        self.minuto = minuto\n",
        "        self.segundo = segundo\n",
        "\n",
        "    def incrementar(self, segundos):\n",
        "        self.segundo += segundos\n",
        "        self.minuto += self.segundo // 60\n",
        "        self.segundo %= 60\n",
        "        self.hora += self.minuto // 60\n",
        "        self.minuto %= 60\n",
        "\n",
        "    def diferenca(self, outro_horario):\n",
        "        segundos_self = self.hora * 3600 + self.minuto * 60 + self.segundo\n",
        "        segundos_outro = outro_horario.hora * 3600 + outro_horario.minuto * 60 + outro_horario.segundo\n",
        "        return segundos_self - segundos_outro\n",
        "\n",
        "horario1 = Horario(10, 30, 0)\n",
        "horario2 = Horario(11, 0, 0)\n",
        "\n",
        "horario1.incrementar(3600)\n",
        "diferenca = horario1.diferenca(horario2)\n",
        "\n",
        "print(f\"Horario 1: {horario1.hora}:{horario1.minuto}:{horario1.segundo}\")\n",
        "print(f\"Horario 2: {horario2.hora}:{horario2.minuto}:{horario2.segundo}\")\n",
        "print(f\"Diferença: {diferenca} segundos\")\n"
      ],
      "metadata": {
        "colab": {
          "base_uri": "https://localhost:8080/"
        },
        "id": "J0_2ldrh5CG_",
        "outputId": "6c5aca7e-89d3-4dfb-a428-196259f30d83"
      },
      "execution_count": null,
      "outputs": [
        {
          "output_type": "stream",
          "name": "stdout",
          "text": [
            "Horario 1: 11:30:0\n",
            "Horario 2: 11:0:0\n",
            "Diferença: 1800 segundos\n"
          ]
        }
      ]
    },
    {
      "cell_type": "markdown",
      "source": [
        "5. Crie uma classe que modele um carro:\n",
        "(a) Atributos: marca, ano e preco.\n",
        "(b) Metodos: mostrar preco e de exibicao dos dados."
      ],
      "metadata": {
        "id": "oE4Qja8C7B9G"
      }
    },
    {
      "cell_type": "code",
      "source": [
        "class Carro:\n",
        "    def __init__(self, marca, ano, preco):\n",
        "        self.marca = marca\n",
        "        self.ano = ano\n",
        "        self.preco = preco\n",
        "\n",
        "    def mostrar_preco(self):\n",
        "        return f\"O preço do carro {self.marca} ({self.ano}) é R$ {self.preco}\"\n",
        "\n",
        "    def exibir_dados(self):\n",
        "        return f\"Marca: {self.marca}\\nAno: {self.ano}\\nPreço: R$ {self.preco}\"\n",
        "\n",
        "carro_exemplo = Carro(marca=\"Fiat\", ano=2022, preco=75000)\n",
        "print(carro_exemplo.mostrar_preco())\n",
        "print(\"\\nDetalhes do Carro:\")\n",
        "print(carro_exemplo.exibir_dados())"
      ],
      "metadata": {
        "colab": {
          "base_uri": "https://localhost:8080/"
        },
        "id": "26iOFuy67RvT",
        "outputId": "42d5618d-c965-466f-9959-1e9fa292f898"
      },
      "execution_count": null,
      "outputs": [
        {
          "output_type": "stream",
          "name": "stdout",
          "text": [
            "O preço do carro Fiat (2022) é R$ 75000\n",
            "\n",
            "Detalhes do Carro:\n",
            "Marca: Fiat\n",
            "Ano: 2022\n",
            "Preço: R$ 75000\n"
          ]
        }
      ]
    },
    {
      "cell_type": "markdown",
      "source": [
        "6. Crie uma classe que modele um Tamagushi (Bichinho Eletrônico):Atributos: Nome, Fome, Saúde e Idade b. Métodos: Alterar Nome, Fome, Saúde e Idade; Retornar Nome, Fome, Saúde e Idade Obs: Existe mais uma informação que devemos levar em consideração, o Humor do nosso tamagushi, este humor é uma combinação entre os atributos Fome e Saúde, ou seja, um campo calculado, então não devemos criar um atributo para armazenar esta informação por que ela pode ser calculada a qualquer momento."
      ],
      "metadata": {
        "id": "da5ZgnZL7W6a"
      }
    },
    {
      "cell_type": "code",
      "source": [
        "class Tamagushi:\n",
        "    def __init__(self, nome, fome, saude, idade):\n",
        "        self.nome = nome\n",
        "        self.fome = fome\n",
        "        self.saude = saude\n",
        "        self.idade = idade\n",
        "\n",
        "    def alterar_nome(self, novo_nome):\n",
        "        self.nome = novo_nome\n",
        "\n",
        "    def alterar_fome(self, nova_fome):\n",
        "        self.fome = nova_fome\n",
        "\n",
        "    def alterar_saude(self, nova_saude):\n",
        "        self.saude = nova_saude\n",
        "\n",
        "    def alterar_idade(self, nova_idade):\n",
        "        self.idade = nova_idade\n",
        "\n",
        "    def retornar_dados(self):\n",
        "        return f\"Nome: {self.nome}\\nFome: {self.fome}\\nSaúde: {self.saude}\\nIdade: {self.idade}\"\n",
        "\n",
        "    def retornar_humor(self):\n",
        "        humor = (self.fome + self.saude) / 2\n",
        "        return f\"Humor: {humor}\"\n",
        "\n",
        "tamagushi_exemplo = Tamagushi(nome=\"Thomas\", fome=5, saude=8, idade=2)\n",
        "print(\"Dados do Tamagushi:\")\n",
        "print(tamagushi_exemplo.retornar_dados())\n",
        "print(tamagushi_exemplo.retornar_humor())"
      ],
      "metadata": {
        "colab": {
          "base_uri": "https://localhost:8080/"
        },
        "id": "qxbUUoEO71Z0",
        "outputId": "ba91dd94-47ff-4c70-89b7-ba6b60b4e382"
      },
      "execution_count": null,
      "outputs": [
        {
          "output_type": "stream",
          "name": "stdout",
          "text": [
            "Dados do Tamagushi:\n",
            "Nome: Tama\n",
            "Fome: 5\n",
            "Saúde: 8\n",
            "Idade: 2\n",
            "Humor: 6.5\n"
          ]
        }
      ]
    },
    {
      "cell_type": "markdown",
      "source": [
        "7. Desenvolva uma classe Macaco,que possua os atributos nome e bucho (estomago) e pelo menos os métodos comer(), verBucho() e digerir(). Faça um programa ou teste interativamente, criando pelo menos dois macacos, alimentando-os com pelo menos 3 alimentos diferentes e verificando o conteúdo do estomago a cada refeição. Experimente fazer com que um macaco coma o outro. É possível criar um macaco canibal?"
      ],
      "metadata": {
        "id": "zrvUkzBv76jA"
      }
    },
    {
      "cell_type": "code",
      "source": [
        "class Macaco:\n",
        "    def __init__(self, nome):\n",
        "        self.nome = nome\n",
        "        self.bucho = []\n",
        "\n",
        "    def comer(self, alimento):\n",
        "        self.bucho.append(alimento)\n",
        "        print(f\"{self.nome} comeu {alimento}!\")\n",
        "\n",
        "    def ver_bucho(self):\n",
        "        if self.bucho:\n",
        "            print(f\"{self.nome} tem na barriga: {', '.join(self.bucho)}\")\n",
        "        else:\n",
        "            print(f\"{self.nome} está com fome.\")\n",
        "\n",
        "    def digerir(self):\n",
        "        if self.bucho:\n",
        "            print(f\"{self.nome} está digerindo...\")\n",
        "            self.bucho = []\n",
        "        else:\n",
        "            print(f\"{self.nome} não tem nada para comer.\")\n",
        "\n",
        "macaco1 = Macaco(nome=\"Cesar - Me dá? Não!!!\")\n",
        "macaco2 = Macaco(nome=\"Jorge - O Curioso\")\n",
        "\n",
        "macaco1.comer(\"banana\")\n",
        "macaco2.comer(\"maçã\")\n",
        "macaco1.comer(\"Mamão\")\n",
        "\n",
        "macaco1.ver_bucho()\n",
        "macaco2.ver_bucho()\n",
        "\n",
        "macaco1.digerir()\n",
        "macaco2.digerir()\n",
        "\n",
        "macaco1.ver_bucho()\n",
        "macaco2.ver_bucho()"
      ],
      "metadata": {
        "colab": {
          "base_uri": "https://localhost:8080/"
        },
        "id": "xbxOnIAd8Bmw",
        "outputId": "4a33b594-004a-4f57-926a-3ef767a60d5a"
      },
      "execution_count": null,
      "outputs": [
        {
          "output_type": "stream",
          "name": "stdout",
          "text": [
            "Cesar - Me dá? Não!!! comeu banana!\n",
            "Jorge - O Curioso comeu maçã!\n",
            "Cesar - Me dá? Não!!! comeu Mamão!\n",
            "Cesar - Me dá? Não!!! tem na barriga: banana, Mamão\n",
            "Jorge - O Curioso tem na barriga: maçã\n",
            "Cesar - Me dá? Não!!! está digerindo...\n",
            "Jorge - O Curioso está digerindo...\n",
            "Cesar - Me dá? Não!!! está com fome.\n",
            "Jorge - O Curioso está com fome.\n"
          ]
        }
      ]
    }
  ]
}