{
  "nbformat": 4,
  "nbformat_minor": 0,
  "metadata": {
    "colab": {
      "provenance": [],
      "include_colab_link": true
    },
    "kernelspec": {
      "name": "python3",
      "display_name": "Python 3"
    },
    "language_info": {
      "name": "python"
    }
  },
  "cells": [
    {
      "cell_type": "markdown",
      "metadata": {
        "id": "view-in-github",
        "colab_type": "text"
      },
      "source": [
        "<a href=\"https://colab.research.google.com/github/DanielCordeiro11/Reposit-1/blob/main/Atividade_Listas_em_Python.ipynb\" target=\"_parent\"><img src=\"https://colab.research.google.com/assets/colab-badge.svg\" alt=\"Open In Colab\"/></a>"
      ]
    },
    {
      "cell_type": "markdown",
      "source": [
        "1 - Faça um Programa que peça a idade e a altura de 5 pessoas, armazene cada informação no seu respectivo vetor. Imprima a idade e a altura na ordem inversa a ordem lida."
      ],
      "metadata": {
        "id": "Gck67s0XigCx"
      }
    },
    {
      "cell_type": "code",
      "execution_count": null,
      "metadata": {
        "colab": {
          "base_uri": "https://localhost:8080/"
        },
        "id": "PGh3gSqkiejG",
        "outputId": "f4d8473c-672d-4387-fc43-46ddb6d00677"
      },
      "outputs": [
        {
          "output_type": "stream",
          "name": "stdout",
          "text": [
            "Digite a 1 idade: 34\n",
            "Digite a 1 altura: 1.45\n",
            "Digite a 2 idade: 23\n",
            "Digite a 2 altura: 2.00\n",
            "Idades | Alturas\n",
            "23 | 2.00 \n",
            "\n",
            "34 | 1.45 \n",
            "\n"
          ]
        }
      ],
      "source": [
        "idades = []\n",
        "alturas = []\n",
        "\n",
        "for i in range(5):\n",
        "  idade = int(input(f'Digite a {i+1} idade: '))\n",
        "  altura = float(input(f'Digite a {i+1} altura: '))\n",
        "  idades.append(idade)\n",
        "  alturas.append(altura)\n",
        "\n",
        "print('\\nIdades | Alturas')\n",
        "for i in range(4, -1, -1):\n",
        "  print(f'{idades[i]} | {alturas[i]:.2f}')"
      ]
    },
    {
      "cell_type": "markdown",
      "source": [
        "2 - Faça um Programa que leia um vetor A com 10 números inteiros, calcule e mostre a soma dos quadrados dos elementos do vetor."
      ],
      "metadata": {
        "id": "txjjQE4-io0E"
      }
    },
    {
      "cell_type": "code",
      "source": [
        "vetor_A = [10]\n",
        "\n",
        "for i in range(10):\n",
        "  numero = int(input(f'Digite o {i+1} numero inteiro para o vetor A: '))\n",
        "  vetor_A.append (numero)\n",
        "\n",
        "\n",
        "  soma_quadrados = sum(x**2 for x in vetor_A)\n",
        "\n",
        "print(f'\\nSoma dos quadrados dos elementos do vetor A:{soma_quadrados}  ')\n",
        "\n"
      ],
      "metadata": {
        "colab": {
          "base_uri": "https://localhost:8080/"
        },
        "id": "t_iuNK8DirIV",
        "outputId": "3d9ed732-2361-4d05-fbff-f76fc7066abe"
      },
      "execution_count": null,
      "outputs": [
        {
          "output_type": "stream",
          "name": "stdout",
          "text": [
            "Digite o 1 numero inteiro para o vetor A: 2\n",
            "Digite o 2 numero inteiro para o vetor A: 3\n",
            "Digite o 3 numero inteiro para o vetor A: 4\n",
            "Digite o 4 numero inteiro para o vetor A: 5\n",
            "Digite o 5 numero inteiro para o vetor A: 6\n",
            "Digite o 6 numero inteiro para o vetor A: 7\n",
            "Digite o 7 numero inteiro para o vetor A: 8\n",
            "Digite o 8 numero inteiro para o vetor A: 9\n",
            "Digite o 9 numero inteiro para o vetor A: 10\n",
            "Digite o 10 numero inteiro para o vetor A: 11\n",
            "\n",
            "Soma dos quadrados dos elementos do vetor A:605  \n"
          ]
        }
      ]
    },
    {
      "cell_type": "markdown",
      "source": [
        "3 - Faça um Programa que leia dois vetores com 10 elementos cada. Gere um terceiro vetor de 20 elementos, cujos valores deverão ser compostos pelos elementos intercalados dos dois outros vetores."
      ],
      "metadata": {
        "id": "ppZoasIhiris"
      }
    },
    {
      "cell_type": "code",
      "source": [
        "vetor1 = []\n",
        "vetor2 = []\n",
        "\n",
        "for i in range(10):\n",
        "    elemento1 = int(input(f'Digite o {i+1}º elemento do vetor 1: '))\n",
        "    elemento2 = int(input(f'Digite o {i+1}º elemento do vetor 2: '))\n",
        "    vetor1.append(elemento1)\n",
        "    vetor2.append(elemento2)\n",
        "\n",
        "vetor_intercalado = [val for pair in zip(vetor1, vetor2) for val in pair]\n",
        "\n",
        "45print(f'\\nVetor 1: {vetor1}')\n",
        "print(f'Vetor 2: {vetor2}')\n",
        "print(f'Vetor Intercalado: {vetor_intercalado}')"
      ],
      "metadata": {
        "colab": {
          "base_uri": "https://localhost:8080/"
        },
        "id": "20dYxuXZivyf",
        "outputId": "e6472c4f-7aae-4dce-b0a8-6410d379c693"
      },
      "execution_count": null,
      "outputs": [
        {
          "output_type": "stream",
          "name": "stdout",
          "text": [
            "Digite o 1º elemento do vetor 1: 4\n",
            "Digite o 1º elemento do vetor 2: 3\n",
            "Digite o 2º elemento do vetor 1: 6\n",
            "Digite o 2º elemento do vetor 2: 4\n",
            "Digite o 3º elemento do vetor 1: 2\n",
            "Digite o 3º elemento do vetor 2: 6\n",
            "Digite o 4º elemento do vetor 1: 5\n",
            "Digite o 4º elemento do vetor 2: 3\n",
            "Digite o 5º elemento do vetor 1: 1\n",
            "Digite o 5º elemento do vetor 2: 3\n",
            "Digite o 6º elemento do vetor 1: 4\n",
            "Digite o 6º elemento do vetor 2: 5\n",
            "Digite o 7º elemento do vetor 1: 6\n",
            "Digite o 7º elemento do vetor 2: 4\n",
            "Digite o 8º elemento do vetor 1: 3\n",
            "Digite o 8º elemento do vetor 2: 2\n",
            "Digite o 9º elemento do vetor 1: 34\n",
            "Digite o 9º elemento do vetor 2: 65\n",
            "Digite o 10º elemento do vetor 1: 34\n",
            "Digite o 10º elemento do vetor 2: 75\n",
            "\n",
            "Vetor 1: [4, 6, 2, 5, 1, 4, 6, 3, 34, 34]\n",
            "Vetor 2: [3, 4, 6, 3, 3, 5, 4, 2, 65, 75]\n",
            "Vetor Intercalado: [4, 3, 6, 4, 2, 6, 5, 3, 1, 3, 4, 5, 6, 4, 3, 2, 34, 65, 34, 75]\n"
          ]
        }
      ]
    },
    {
      "cell_type": "markdown",
      "source": [
        "4 - Altere o programa anterior, intercalando 3 vetores de 10 elementos cada."
      ],
      "metadata": {
        "id": "KWapZV9xiwRV"
      }
    },
    {
      "cell_type": "code",
      "source": [
        "vetor1 = []\n",
        "vetor2 = []\n",
        "vetor3 = []\n",
        "\n",
        "for i in range(10):\n",
        "    elemento1 = int(input(f'Digite o {i+1}º elemento do vetor 1: '))\n",
        "    elemento2 = int(input(f'Digite o {i+1}º elemento do vetor 2: '))\n",
        "    elemento3 = int(input(f'Digite o {i+1}º elemento do vetor 3: '))\n",
        "    vetor1.append(elemento1)\n",
        "    vetor2.append(elemento2)\n",
        "    vetor3.append(elemento3)\n",
        "\n",
        "vetor_intercalado = [val for triple in zip(vetor1, vetor2, vetor3) for val in triple]\n",
        "\n",
        "print(f'\\nVetor 1: {vetor1}')\n",
        "print(f'Veetor 2: {vetor2}')\n",
        "print(f'Veetor 3: {vetor3}')\n",
        "print(f'Vetor Intercalado: {vetor_intercalado}')"
      ],
      "metadata": {
        "colab": {
          "base_uri": "https://localhost:8080/"
        },
        "id": "oZ3hptl3i0UO",
        "outputId": "263fcb0b-46b8-4ce8-9ef5-d3d3e8a40874"
      },
      "execution_count": null,
      "outputs": [
        {
          "output_type": "stream",
          "name": "stdout",
          "text": [
            "Digite o 1º elemento do vetor 1: 3\n",
            "Digite o 1º elemento do vetor 2: 45\n",
            "Digite o 1º elemento do vetor 3: 2\n",
            "Digite o 2º elemento do vetor 1: 67\n",
            "Digite o 2º elemento do vetor 2: 45\n",
            "Digite o 2º elemento do vetor 3: 4\n",
            "Digite o 3º elemento do vetor 1: 3\n",
            "Digite o 3º elemento do vetor 2: 23\n",
            "Digite o 3º elemento do vetor 3: 54\n",
            "Digite o 4º elemento do vetor 1: 34\n",
            "Digite o 4º elemento do vetor 2: 23\n",
            "Digite o 4º elemento do vetor 3: 5\n",
            "Digite o 5º elemento do vetor 1: 65\n",
            "Digite o 5º elemento do vetor 2: 345\n",
            "Digite o 5º elemento do vetor 3: 432\n",
            "Digite o 6º elemento do vetor 1: 357\n",
            "Digite o 6º elemento do vetor 2: 4\n",
            "Digite o 6º elemento do vetor 3: 34\n",
            "Digite o 7º elemento do vetor 1: 54\n",
            "Digite o 7º elemento do vetor 2: 65\n",
            "Digite o 7º elemento do vetor 3: 34\n",
            "Digite o 8º elemento do vetor 1: 235\n",
            "Digite o 8º elemento do vetor 2: 347\n",
            "Digite o 8º elemento do vetor 3: 235\n",
            "Digite o 9º elemento do vetor 1: 43\n",
            "Digite o 9º elemento do vetor 2: 3\n",
            "Digite o 9º elemento do vetor 3: 234\n",
            "Digite o 10º elemento do vetor 1: 235\n",
            "Digite o 10º elemento do vetor 2: 5\n",
            "Digite o 10º elemento do vetor 3: 345\n",
            "\n",
            "Vetor 1: [3, 67, 3, 34, 65, 357, 54, 235, 43, 235]\n",
            "Veetor 2: [45, 45, 23, 23, 345, 4, 65, 347, 3, 5]\n",
            "Veetor 3: [2, 4, 54, 5, 432, 34, 34, 235, 234, 345]\n",
            "Vetor Intercalado: [3, 45, 2, 67, 45, 4, 3, 23, 54, 34, 23, 5, 65, 345, 432, 357, 4, 34, 54, 65, 34, 235, 347, 235, 43, 3, 234, 235, 5, 345]\n"
          ]
        }
      ]
    },
    {
      "cell_type": "markdown",
      "source": [
        "5 - Foram anotadas as idades e alturas de 10 alunos. Faça um Programa que determine quantos alunos com mais de 13 anos possuem altura inferior à média de altura desses alunos."
      ],
      "metadata": {
        "id": "6dfKQ9UBi0oM"
      }
    },
    {
      "cell_type": "code",
      "source": [
        "idades = []\n",
        "alturas = []\n",
        "\n",
        "for i in range(10):\n",
        "    idade = int(input(f'Digite a idade do aluno {i + 1}: '))\n",
        "    altura = float(input(f'Digite a altura (em metros) do aluno {i + 1}: '))\n",
        "    idades.append(idade)\n",
        "    alturas.append(altura)\n",
        "\n",
        "media_alturas = sum(alturas) / len(alturas)\n",
        "\n",
        "contador = 0\n",
        "for i in range(10):\n",
        "    if idades[i] > 13 and alturas[i] < media_alturas:\n",
        "        contador += 1\n",
        "\n",
        "print(f'Número de alunos com mais de 13 anos e altura inferior à média: {contador}')"
      ],
      "metadata": {
        "colab": {
          "base_uri": "https://localhost:8080/"
        },
        "id": "OlxfzZCqi3ZP",
        "outputId": "d5d9afba-4dff-4f57-a229-089c64a70642"
      },
      "execution_count": null,
      "outputs": [
        {
          "output_type": "stream",
          "name": "stdout",
          "text": [
            "Digite a idade do aluno 1: 12\n",
            "Digite a altura (em metros) do aluno 1: 1.45\n",
            "Digite a idade do aluno 2: 13\n",
            "Digite a altura (em metros) do aluno 2: 2\n",
            "Digite a idade do aluno 3: 24\n",
            "Digite a altura (em metros) do aluno 3: 4\n",
            "Digite a idade do aluno 4: 23\n",
            "Digite a altura (em metros) do aluno 4: 25\n",
            "Digite a idade do aluno 5: 24\n",
            "Digite a altura (em metros) do aluno 5: 13\n",
            "Digite a idade do aluno 6: 35\n",
            "Digite a altura (em metros) do aluno 6: 57\n",
            "Digite a idade do aluno 7: 34\n",
            "Digite a altura (em metros) do aluno 7: 23\n",
            "Digite a idade do aluno 8: 12\n",
            "Digite a altura (em metros) do aluno 8: 35\n",
            "Digite a idade do aluno 9: 23\n",
            "Digite a altura (em metros) do aluno 9: 53\n",
            "Digite a idade do aluno 10: 23\n",
            "Digite a altura (em metros) do aluno 10: 12\n",
            "Número de alunos com mais de 13 anos e altura inferior à média: 3\n"
          ]
        }
      ]
    }
  ]
}