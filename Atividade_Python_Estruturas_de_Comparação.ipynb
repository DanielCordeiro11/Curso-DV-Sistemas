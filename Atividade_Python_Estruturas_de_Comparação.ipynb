{
  "nbformat": 4,
  "nbformat_minor": 0,
  "metadata": {
    "colab": {
      "provenance": [],
      "include_colab_link": true
    },
    "kernelspec": {
      "name": "python3",
      "display_name": "Python 3"
    },
    "language_info": {
      "name": "python"
    }
  },
  "cells": [
    {
      "cell_type": "markdown",
      "metadata": {
        "id": "view-in-github",
        "colab_type": "text"
      },
      "source": [
        "<a href=\"https://colab.research.google.com/github/DanielCordeiro11/Reposit-1/blob/main/Atividade_Python_Estruturas_de_Compara%C3%A7%C3%A3o.ipynb\" target=\"_parent\"><img src=\"https://colab.research.google.com/assets/colab-badge.svg\" alt=\"Open In Colab\"/></a>"
      ]
    },
    {
      "cell_type": "markdown",
      "source": [
        "1 - Faça um Programa que peça um valor e mostre na tela se o valor é positivo ou negativo.\n"
      ],
      "metadata": {
        "id": "iE6UGkfLj7IU"
      }
    },
    {
      "cell_type": "code",
      "execution_count": null,
      "metadata": {
        "colab": {
          "base_uri": "https://localhost:8080/"
        },
        "id": "Q2sKl3hQjsRA",
        "outputId": "3a8c3dec-1a70-407e-935c-46c118834599"
      },
      "outputs": [
        {
          "output_type": "stream",
          "name": "stdout",
          "text": [
            "Digite um número: 3\n",
            "3.0 é positivo.\n"
          ]
        }
      ],
      "source": [
        "num = float(input('Digite um número: '))\n",
        "if num > 0:\n",
        "  print(f'{num} é positivo.')\n",
        "elif num < 0:\n",
        "  print(f'{num} é negativo.')\n",
        "else:\n",
        "  print('É zero.')"
      ]
    },
    {
      "cell_type": "markdown",
      "source": [
        "2 - Faça um Programa que verifique se uma letra digitada é \"F\" ou \"M\". Conforme a letra escrever: F - Feminino, M - Masculino, Sexo Inválido."
      ],
      "metadata": {
        "id": "vUXP8P5Tk2cf"
      }
    },
    {
      "cell_type": "code",
      "source": [
        "sexo = input('Informe qual o sexo (F - Feminino | M - Masculino): ')\n",
        "if sexo == 'F' or sexo == 'f':\n",
        "  print('O genêro é Feminino.')\n",
        "elif sexo == 'm' or sexo == 'M':\n",
        "  print('O genêro é Masculino.')\n",
        "else:\n",
        "  print('Informe uma resposta válida.')"
      ],
      "metadata": {
        "colab": {
          "base_uri": "https://localhost:8080/"
        },
        "id": "pFRIY_dlk8wU",
        "outputId": "4a9de94c-b447-477b-c672-56926f64eef5"
      },
      "execution_count": null,
      "outputs": [
        {
          "output_type": "stream",
          "name": "stdout",
          "text": [
            "Informe qual o sexo (F - Feminino | M - Masculino): f\n",
            "O genêro é Faminino.\n"
          ]
        }
      ]
    },
    {
      "cell_type": "markdown",
      "source": [
        "3 - Faça um Programa que verifique se uma letra digitada é vogal ou consoante."
      ],
      "metadata": {
        "id": "1Cb6mqFsnDmk"
      }
    },
    {
      "cell_type": "code",
      "source": [
        "letra = input('Digite uma letra: ')\n",
        "if letra in ['a', 'A', 'e', 'E', 'i', 'I', 'o', 'O', 'u', 'U']:\n",
        "  print(f'\"{letra}\" é vogal.')\n",
        "else:\n",
        "  print(f'\"{letra}\" é uma consoante')"
      ],
      "metadata": {
        "colab": {
          "base_uri": "https://localhost:8080/"
        },
        "id": "qU-JIJMynGWA",
        "outputId": "ee3db9ed-7ca6-46c6-eb0c-376a6113f9f5"
      },
      "execution_count": null,
      "outputs": [
        {
          "output_type": "stream",
          "name": "stdout",
          "text": [
            "Digite uma letra: h\n",
            "\"h\" é uma consoante\n"
          ]
        }
      ]
    },
    {
      "cell_type": "markdown",
      "source": [
        "4 - Faça um programa para a leitura de duas notas parciais de um aluno. O programa deve calcular a média alcançada por aluno apresentar:\n",
        "  - A mensagem \"Aprovado\", se a média alcançada for maior ou igual a sete;\n",
        "  - A mensagem \"Reprovado\", se a média for menor do que sete;\n",
        "  - A mensagem \"Aprovado com Distinção\", se a média for igual a dez."
      ],
      "metadata": {
        "id": "jraMuEIDo4qU"
      }
    },
    {
      "cell_type": "code",
      "source": [
        "nota1 = float(input('Digite a primeira nota: '))\n",
        "nota2 = float(input('Digite a segunda nota: '))\n",
        "media = (nota1 + nota2) / 2\n",
        "if media == 10>= 7:\n",
        "  print(f'{media} - Aprovado com Distinção.')\n",
        "elif media >= 7:\n",
        "  print(f'{media} - Aprovado.')\n",
        "else:\n",
        "  print(f'{media} - Reprovado.')"
      ],
      "metadata": {
        "colab": {
          "base_uri": "https://localhost:8080/"
        },
        "id": "V8UtwQVkpahR",
        "outputId": "abbcb0ff-260d-47e2-ae1a-57b396e4185a"
      },
      "execution_count": null,
      "outputs": [
        {
          "output_type": "stream",
          "name": "stdout",
          "text": [
            "Digite a primeira nota: 10\n",
            "Digite a segunda nota: 10\n",
            "10.0 - Aprovado com Distinção.\n"
          ]
        }
      ]
    },
    {
      "cell_type": "markdown",
      "source": [
        "5 - Faça um Programa que leia três números e mostre o maior deles."
      ],
      "metadata": {
        "id": "Y6FbPtIPryoO"
      }
    },
    {
      "cell_type": "code",
      "source": [
        "num1 = float(input('Digite o primeiro número: '))\n",
        "num2 = float(input('Digite o segundo número: '))\n",
        "num3 = float(input('Digite o terceiro número: '))\n",
        "\n",
        "if num1 > num2 and num1 > num3:\n",
        "  maior = num1\n",
        "  print(f'{maior} é o maior.')\n",
        "elif num2 > num1 and num2 > num3:\n",
        "  maior = num2\n",
        "  print(f'{maior} é o maior.')\n",
        "else:\n",
        "  maior = num3\n",
        "  print(f'{maior} é o maior')"
      ],
      "metadata": {
        "colab": {
          "base_uri": "https://localhost:8080/"
        },
        "id": "vm5rmdQprzwc",
        "outputId": "62192381-93eb-4112-c91d-afbfe1c6d552"
      },
      "execution_count": null,
      "outputs": [
        {
          "output_type": "stream",
          "name": "stdout",
          "text": [
            "Digite o primeiro número.3\n",
            "Digite o segundo número.2\n",
            "Digite o terceiro número.5\n",
            "5.0 é o maior\n"
          ]
        }
      ]
    },
    {
      "cell_type": "markdown",
      "source": [
        "6 - Faça um Programa que leia três números e mostre o maior e o menor deles."
      ],
      "metadata": {
        "id": "XyNZxnN8un4K"
      }
    },
    {
      "cell_type": "code",
      "source": [
        "num1 = float(input('Digite o primeiro número: '))\n",
        "num2 = float(input('Digite o segundo número: '))\n",
        "num3 = float(input('Digite o terceiro número: '))\n",
        "\n",
        "if num1 > num2 and num1 > num3:\n",
        "  maior = num1\n",
        "elif num2 > num1 and num2 > num3:\n",
        "  maior = num2\n",
        "else:\n",
        "  maior = num3\n",
        "\n",
        "if num1 < num2 and num1 < num3:\n",
        "  menor = num1\n",
        "elif num2 < num1 and num2 < num3:\n",
        "  menor = num2\n",
        "else:\n",
        "  menor = num3\n",
        "\n",
        "print(f'O maior é {maior}.')\n",
        "print(f'O menor é {menor}.')"
      ],
      "metadata": {
        "id": "Wzzs4pxquq0m",
        "colab": {
          "base_uri": "https://localhost:8080/"
        },
        "outputId": "2f6b5bfa-fb04-481b-87a1-c5c1f5575167"
      },
      "execution_count": null,
      "outputs": [
        {
          "output_type": "stream",
          "name": "stdout",
          "text": [
            "Digite o primeiro número: 3\n",
            "Digite o segundo número: 4\n",
            "Digite o terceiro número: 2\n",
            "O maior é 4.0.\n",
            "O menor é 2.0.\n"
          ]
        }
      ]
    },
    {
      "cell_type": "markdown",
      "source": [
        "7 - Faça um programa que pergunte o preço de três produtos e informe qual produto você deve comprar, sabendo que a decisão é sempre pelo mais barato.\n"
      ],
      "metadata": {
        "id": "A2m8bq9oIegi"
      }
    },
    {
      "cell_type": "code",
      "source": [
        "preco_produto1 = float(input('Digite o preço do primeiro produto: '))\n",
        "preco_produto2 = float(input('Digite o preço do segundo produto: '))\n",
        "preco_produto3 = float(input('Digite o preço do terceiro produto: '))\n",
        "\n",
        "if preco_produto1 < preco_produto2 and preco_produto1 < preco_produto3:\n",
        "    produto_mais_barato = \"Produto 1\"\n",
        "    preco_mais_barato = preco_produto1\n",
        "elif preco_produto2 < preco_produto1 and preco_produto2 < preco_produto3:\n",
        "    produto_mais_barato = \"Produto 2\"\n",
        "    preco_mais_barato = preco_produto2\n",
        "else:\n",
        "    produto_mais_barato = \"Produto 3\"\n",
        "    preco_mais_barato = preco_produto3\n",
        "\n",
        "print(f'O produto mais barato é {produto_mais_barato} com preço de R${preco_mais_barato:.2f}')"
      ],
      "metadata": {
        "id": "t6KKwLUEIhS4",
        "colab": {
          "base_uri": "https://localhost:8080/"
        },
        "outputId": "b1ceb54c-27cc-460f-a788-9250b3643e78"
      },
      "execution_count": null,
      "outputs": [
        {
          "output_type": "stream",
          "name": "stdout",
          "text": [
            "Digite o preço do primeiro produto: 5\n",
            "Digite o preço do segundo produto: 3\n",
            "Digite o preço do terceiro produto: 2\n",
            "O produto mais barato é Produto 3 com preço de R$2.00\n"
          ]
        }
      ]
    },
    {
      "cell_type": "markdown",
      "source": [
        "8 - Faça um Programa que leia três números e mostre-os em ordem decrescente."
      ],
      "metadata": {
        "id": "G8xSUrq5HX8l"
      }
    },
    {
      "cell_type": "code",
      "source": [
        "num1 = float(input('Digite o primeiro número: '))\n",
        "num2 = float(input('Digite o segundo número: '))\n",
        "num3 = float(input('Digite o terceiro número: '))\n",
        "\n",
        "numeros = [num1, num2, num3]\n",
        "\n",
        "numeros.sort(reverse=True)\n",
        "\n",
        "print(f'Números em ordem decrescente: {numeros[0]}, {numeros[1]}, {numeros[2]}')"
      ],
      "metadata": {
        "id": "_Jt0n1PeHi5c",
        "colab": {
          "base_uri": "https://localhost:8080/"
        },
        "outputId": "5632fb55-ae00-478e-8bc0-812c87fc49c4"
      },
      "execution_count": null,
      "outputs": [
        {
          "output_type": "stream",
          "name": "stdout",
          "text": [
            "Digite o primeiro número: 4\n",
            "Digite o segundo número: 8\n",
            "Digite o terceiro número: 3\n",
            "Números em ordem decrescente: 8.0, 4.0, 3.0\n"
          ]
        }
      ]
    }
  ]
}